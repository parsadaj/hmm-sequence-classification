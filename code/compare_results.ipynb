{
 "cells": [
  {
   "cell_type": "code",
   "execution_count": 1,
   "metadata": {},
   "outputs": [],
   "source": [
    "import os\n",
    "import sys\n",
    "import hmm\n",
    "from utils import *"
   ]
  },
  {
   "cell_type": "code",
   "execution_count": 2,
   "metadata": {},
   "outputs": [
    {
     "data": {
      "text/plain": [
       "{'model_01.txt': 0,\n",
       " 'model_02.txt': 1,\n",
       " 'model_03.txt': 2,\n",
       " 'model_04.txt': 3,\n",
       " 'model_05.txt': 4}"
      ]
     },
     "execution_count": 2,
     "metadata": {},
     "output_type": "execute_result"
    }
   ],
   "source": [
    "HW_path = '/Users/parsa/Daneshgah/Arshad/2/NLP/Homeworks/HW2/'\n",
    "\n",
    "results_path = os.path.join(HW_path, 'output/result1.txt')\n",
    "truth_path = os.path.join(HW_path, 'hmm_data/testing_answer.txt')\n",
    "modellist_path = os.path.join(HW_path, 'hmm_data/modellist.txt')\n",
    "\n",
    "counter = 0\n",
    "n_lines = get_num_lines(results_path)\n",
    "\n",
    "modellist = read_modellist(modellist_path)\n",
    "model_to_index = {m: i for i, m in enumerate(modellist)}\n",
    "\n",
    "\n",
    "model_to_index"
   ]
  },
  {
   "cell_type": "code",
   "execution_count": 3,
   "metadata": {},
   "outputs": [],
   "source": [
    "result_file = open(results_path, 'r')\n",
    "truth_file = open(truth_path, 'r')\n",
    "confusion_matrix = np.zeros((len(modellist), len(modellist)))\n",
    "\n",
    "true_count = 0\n",
    "for i in range(n_lines):\n",
    "    result = result_file.readline()[:-1].split()[0]\n",
    "    truth = truth_file.readline()[:-1]\n",
    "    \n",
    "    if truth == result:\n",
    "        true_count += 1\n",
    "        \n",
    "    confusion_matrix[model_to_index[result], model_to_index[truth]] += 1\n",
    "    \n",
    "    counter += 1\n",
    "    \n",
    "result_file.close()\n",
    "truth_file.close()\n",
    "    "
   ]
  },
  {
   "cell_type": "code",
   "execution_count": 4,
   "metadata": {},
   "outputs": [
    {
     "name": "stdout",
     "output_type": "stream",
     "text": [
      "0.7792\n"
     ]
    }
   ],
   "source": [
    "accuracy = true_count / n_lines\n",
    "print(accuracy)\n"
   ]
  },
  {
   "cell_type": "code",
   "execution_count": 7,
   "metadata": {},
   "outputs": [
    {
     "data": {
      "text/plain": [
       "array([[497.,   1.,  14.,   1.,   1.],\n",
       "       [  1., 501.,   0.,   6.,  15.],\n",
       "       [  0.,   2., 454.,  18.,  21.],\n",
       "       [  0.,  15.,   2., 209., 154.],\n",
       "       [  0.,  12.,  16., 273., 287.]])"
      ]
     },
     "execution_count": 7,
     "metadata": {},
     "output_type": "execute_result"
    }
   ],
   "source": [
    "confusion_matrix"
   ]
  },
  {
   "cell_type": "code",
   "execution_count": 8,
   "metadata": {},
   "outputs": [],
   "source": [
    "A, B, Pi = read_model('/Users/parsa/Daneshgah/Arshad/2/NLP/Homeworks/HW2/hmm_data/model_init.txt', sep=' ')"
   ]
  },
  {
   "cell_type": "code",
   "execution_count": 9,
   "metadata": {},
   "outputs": [
    {
     "name": "stdout",
     "output_type": "stream",
     "text": [
      "500 / 2500\r"
     ]
    },
    {
     "ename": "KeyboardInterrupt",
     "evalue": "",
     "output_type": "error",
     "traceback": [
      "\u001b[0;31m---------------------------------------------------------------------------\u001b[0m",
      "\u001b[0;31mKeyboardInterrupt\u001b[0m                         Traceback (most recent call last)",
      "\u001b[1;32m/Users/parsa/Daneshgah/Arshad/2/NLP/Homeworks/HW2/code/compare_results.ipynb Cell 7'\u001b[0m in \u001b[0;36m<cell line: 11>\u001b[0;34m()\u001b[0m\n\u001b[1;32m     <a href='vscode-notebook-cell:/Users/parsa/Daneshgah/Arshad/2/NLP/Homeworks/HW2/code/compare_results.ipynb#ch0000007?line=17'>18</a>\u001b[0m \u001b[39mif\u001b[39;00m \u001b[39mnot\u001b[39;00m test_line:\n\u001b[1;32m     <a href='vscode-notebook-cell:/Users/parsa/Daneshgah/Arshad/2/NLP/Homeworks/HW2/code/compare_results.ipynb#ch0000007?line=18'>19</a>\u001b[0m     \u001b[39mbreak\u001b[39;00m\n\u001b[0;32m---> <a href='vscode-notebook-cell:/Users/parsa/Daneshgah/Arshad/2/NLP/Homeworks/HW2/code/compare_results.ipynb#ch0000007?line=19'>20</a>\u001b[0m P, model_name \u001b[39m=\u001b[39m hmm\u001b[39m.\u001b[39;49mget_best_model(test_line, modellist, output_path\u001b[39m=\u001b[39;49m\u001b[39m'\u001b[39;49m\u001b[39m/Users/parsa/Daneshgah/Arshad/2/NLP/Homeworks/HW2/output\u001b[39;49m\u001b[39m'\u001b[39;49m)\n\u001b[1;32m     <a href='vscode-notebook-cell:/Users/parsa/Daneshgah/Arshad/2/NLP/Homeworks/HW2/code/compare_results.ipynb#ch0000007?line=20'>21</a>\u001b[0m append_to_results(P, model_name, \u001b[39m'\u001b[39m\u001b[39m/Users/parsa/Daneshgah/Arshad/2/NLP/Homeworks/HW2/output/result_init.txt\u001b[39m\u001b[39m'\u001b[39m)\n",
      "File \u001b[0;32m~/Daneshgah/Arshad/2/NLP/Homeworks/HW2/code/hmm.py:353\u001b[0m, in \u001b[0;36mget_best_model\u001b[0;34m(line, modellist, output_path)\u001b[0m\n\u001b[1;32m    <a href='file:///Users/parsa/Daneshgah/Arshad/2/NLP/Homeworks/HW2/code/hmm.py?line=350'>351</a>\u001b[0m \u001b[39mfor\u001b[39;00m model_name \u001b[39min\u001b[39;00m modellist:\n\u001b[1;32m    <a href='file:///Users/parsa/Daneshgah/Arshad/2/NLP/Homeworks/HW2/code/hmm.py?line=351'>352</a>\u001b[0m     model_path \u001b[39m=\u001b[39m os\u001b[39m.\u001b[39mpath\u001b[39m.\u001b[39mjoin(output_path, model_name)\n\u001b[0;32m--> <a href='file:///Users/parsa/Daneshgah/Arshad/2/NLP/Homeworks/HW2/code/hmm.py?line=352'>353</a>\u001b[0m     P \u001b[39m=\u001b[39m eval_mdoel(model_path, line)\n\u001b[1;32m    <a href='file:///Users/parsa/Daneshgah/Arshad/2/NLP/Homeworks/HW2/code/hmm.py?line=353'>354</a>\u001b[0m     \u001b[39mif\u001b[39;00m P \u001b[39m>\u001b[39m best_P:\n\u001b[1;32m    <a href='file:///Users/parsa/Daneshgah/Arshad/2/NLP/Homeworks/HW2/code/hmm.py?line=354'>355</a>\u001b[0m         best_P \u001b[39m=\u001b[39m P\n",
      "File \u001b[0;32m~/Daneshgah/Arshad/2/NLP/Homeworks/HW2/code/hmm.py:380\u001b[0m, in \u001b[0;36meval_mdoel\u001b[0;34m(model_path, line)\u001b[0m\n\u001b[1;32m    <a href='file:///Users/parsa/Daneshgah/Arshad/2/NLP/Homeworks/HW2/code/hmm.py?line=376'>377</a>\u001b[0m S, iS \u001b[39m=\u001b[39m get_states(n_states)\n\u001b[1;32m    <a href='file:///Users/parsa/Daneshgah/Arshad/2/NLP/Homeworks/HW2/code/hmm.py?line=378'>379</a>\u001b[0m alpha \u001b[39m=\u001b[39m get_alpha(iS, A, B, Pi, line, v_to_k)\n\u001b[0;32m--> <a href='file:///Users/parsa/Daneshgah/Arshad/2/NLP/Homeworks/HW2/code/hmm.py?line=379'>380</a>\u001b[0m beta \u001b[39m=\u001b[39m get_beta(iS, A, B, Pi, line, v_to_k)\n\u001b[1;32m    <a href='file:///Users/parsa/Daneshgah/Arshad/2/NLP/Homeworks/HW2/code/hmm.py?line=381'>382</a>\u001b[0m P1 \u001b[39m=\u001b[39m np\u001b[39m.\u001b[39msum(alpha[\u001b[39m-\u001b[39m\u001b[39m1\u001b[39m, \u001b[39m.\u001b[39m\u001b[39m.\u001b[39m\u001b[39m.\u001b[39m])\n\u001b[1;32m    <a href='file:///Users/parsa/Daneshgah/Arshad/2/NLP/Homeworks/HW2/code/hmm.py?line=382'>383</a>\u001b[0m P2 \u001b[39m=\u001b[39m np\u001b[39m.\u001b[39msum(beta[\u001b[39m0\u001b[39m, \u001b[39m.\u001b[39m\u001b[39m.\u001b[39m\u001b[39m.\u001b[39m]\u001b[39m*\u001b[39mPi)\n",
      "File \u001b[0;32m~/Daneshgah/Arshad/2/NLP/Homeworks/HW2/code/hmm.py:260\u001b[0m, in \u001b[0;36mget_beta\u001b[0;34m(iS, A, B, Pi, O, v_to_k)\u001b[0m\n\u001b[1;32m    <a href='file:///Users/parsa/Daneshgah/Arshad/2/NLP/Homeworks/HW2/code/hmm.py?line=245'>246</a>\u001b[0m \u001b[39m\"\"\"calculates and return a dict containing all betas\u001b[39;00m\n\u001b[1;32m    <a href='file:///Users/parsa/Daneshgah/Arshad/2/NLP/Homeworks/HW2/code/hmm.py?line=246'>247</a>\u001b[0m \n\u001b[1;32m    <a href='file:///Users/parsa/Daneshgah/Arshad/2/NLP/Homeworks/HW2/code/hmm.py?line=247'>248</a>\u001b[0m \u001b[39mArgs:\u001b[39;00m\n\u001b[0;32m   (...)\u001b[0m\n\u001b[1;32m    <a href='file:///Users/parsa/Daneshgah/Arshad/2/NLP/Homeworks/HW2/code/hmm.py?line=256'>257</a>\u001b[0m \u001b[39m    dict: beta\u001b[39;00m\n\u001b[1;32m    <a href='file:///Users/parsa/Daneshgah/Arshad/2/NLP/Homeworks/HW2/code/hmm.py?line=257'>258</a>\u001b[0m \u001b[39m\"\"\"\u001b[39;00m\n\u001b[1;32m    <a href='file:///Users/parsa/Daneshgah/Arshad/2/NLP/Homeworks/HW2/code/hmm.py?line=258'>259</a>\u001b[0m beta \u001b[39m=\u001b[39m np\u001b[39m.\u001b[39mfull((\u001b[39mlen\u001b[39m(O), \u001b[39mlen\u001b[39m(iS)), \u001b[39mNone\u001b[39;00m)\n\u001b[0;32m--> <a href='file:///Users/parsa/Daneshgah/Arshad/2/NLP/Homeworks/HW2/code/hmm.py?line=259'>260</a>\u001b[0m compute_beta(\u001b[39m0\u001b[39;49m, \u001b[39m-\u001b[39;49m\u001b[39m1\u001b[39;49m, iS, A, B, Pi, O, beta, v_to_k), \n\u001b[1;32m    <a href='file:///Users/parsa/Daneshgah/Arshad/2/NLP/Homeworks/HW2/code/hmm.py?line=260'>261</a>\u001b[0m \u001b[39mreturn\u001b[39;00m beta\u001b[39m.\u001b[39mastype(\u001b[39mfloat\u001b[39m)\n",
      "File \u001b[0;32m~/Daneshgah/Arshad/2/NLP/Homeworks/HW2/code/hmm.py:227\u001b[0m, in \u001b[0;36mcompute_beta\u001b[0;34m(j, t, iS, A, B, Pi, O, beta, v_to_k)\u001b[0m\n\u001b[1;32m    <a href='file:///Users/parsa/Daneshgah/Arshad/2/NLP/Homeworks/HW2/code/hmm.py?line=223'>224</a>\u001b[0m     P_O \u001b[39m=\u001b[39m \u001b[39m0\u001b[39m\n\u001b[1;32m    <a href='file:///Users/parsa/Daneshgah/Arshad/2/NLP/Homeworks/HW2/code/hmm.py?line=224'>225</a>\u001b[0m     \u001b[39mfor\u001b[39;00m i \u001b[39min\u001b[39;00m iS:\n\u001b[1;32m    <a href='file:///Users/parsa/Daneshgah/Arshad/2/NLP/Homeworks/HW2/code/hmm.py?line=225'>226</a>\u001b[0m         \u001b[39m#compute_beta(i, 0, S, A, B, P, O, beta)\u001b[39;00m\n\u001b[0;32m--> <a href='file:///Users/parsa/Daneshgah/Arshad/2/NLP/Homeworks/HW2/code/hmm.py?line=226'>227</a>\u001b[0m         P_O \u001b[39m+\u001b[39m\u001b[39m=\u001b[39m Pi[i] \u001b[39m*\u001b[39m compute_beta(i, \u001b[39m0\u001b[39;49m, iS, A, B, Pi, O, beta, v_to_k)\n\u001b[1;32m    <a href='file:///Users/parsa/Daneshgah/Arshad/2/NLP/Homeworks/HW2/code/hmm.py?line=227'>228</a>\u001b[0m     \u001b[39mreturn\u001b[39;00m P_O\n\u001b[1;32m    <a href='file:///Users/parsa/Daneshgah/Arshad/2/NLP/Homeworks/HW2/code/hmm.py?line=229'>230</a>\u001b[0m \u001b[39mif\u001b[39;00m beta[t, j] \u001b[39mis\u001b[39;00m \u001b[39mnot\u001b[39;00m \u001b[39mNone\u001b[39;00m:\n",
      "File \u001b[0;32m~/Daneshgah/Arshad/2/NLP/Homeworks/HW2/code/hmm.py:239\u001b[0m, in \u001b[0;36mcompute_beta\u001b[0;34m(j, t, iS, A, B, Pi, O, beta, v_to_k)\u001b[0m\n\u001b[1;32m    <a href='file:///Users/parsa/Daneshgah/Arshad/2/NLP/Homeworks/HW2/code/hmm.py?line=236'>237</a>\u001b[0m beta_j_t \u001b[39m=\u001b[39m \u001b[39m0\u001b[39m\n\u001b[1;32m    <a href='file:///Users/parsa/Daneshgah/Arshad/2/NLP/Homeworks/HW2/code/hmm.py?line=237'>238</a>\u001b[0m \u001b[39mfor\u001b[39;00m i \u001b[39min\u001b[39;00m iS:\n\u001b[0;32m--> <a href='file:///Users/parsa/Daneshgah/Arshad/2/NLP/Homeworks/HW2/code/hmm.py?line=238'>239</a>\u001b[0m     beta_j_t \u001b[39m+\u001b[39m\u001b[39m=\u001b[39m compute_beta(i, t\u001b[39m+\u001b[39;49m\u001b[39m1\u001b[39;49m, iS, A, B, Pi, O, beta, v_to_k) \u001b[39m*\u001b[39m A[j, i] \u001b[39m*\u001b[39m B[v_to_k[O[t\u001b[39m+\u001b[39m\u001b[39m1\u001b[39m]], i]\n\u001b[1;32m    <a href='file:///Users/parsa/Daneshgah/Arshad/2/NLP/Homeworks/HW2/code/hmm.py?line=240'>241</a>\u001b[0m beta[t, j] \u001b[39m=\u001b[39m beta_j_t\n\u001b[1;32m    <a href='file:///Users/parsa/Daneshgah/Arshad/2/NLP/Homeworks/HW2/code/hmm.py?line=241'>242</a>\u001b[0m \u001b[39mreturn\u001b[39;00m beta[t, j]\n",
      "File \u001b[0;32m~/Daneshgah/Arshad/2/NLP/Homeworks/HW2/code/hmm.py:239\u001b[0m, in \u001b[0;36mcompute_beta\u001b[0;34m(j, t, iS, A, B, Pi, O, beta, v_to_k)\u001b[0m\n\u001b[1;32m    <a href='file:///Users/parsa/Daneshgah/Arshad/2/NLP/Homeworks/HW2/code/hmm.py?line=236'>237</a>\u001b[0m beta_j_t \u001b[39m=\u001b[39m \u001b[39m0\u001b[39m\n\u001b[1;32m    <a href='file:///Users/parsa/Daneshgah/Arshad/2/NLP/Homeworks/HW2/code/hmm.py?line=237'>238</a>\u001b[0m \u001b[39mfor\u001b[39;00m i \u001b[39min\u001b[39;00m iS:\n\u001b[0;32m--> <a href='file:///Users/parsa/Daneshgah/Arshad/2/NLP/Homeworks/HW2/code/hmm.py?line=238'>239</a>\u001b[0m     beta_j_t \u001b[39m+\u001b[39m\u001b[39m=\u001b[39m compute_beta(i, t\u001b[39m+\u001b[39;49m\u001b[39m1\u001b[39;49m, iS, A, B, Pi, O, beta, v_to_k) \u001b[39m*\u001b[39m A[j, i] \u001b[39m*\u001b[39m B[v_to_k[O[t\u001b[39m+\u001b[39m\u001b[39m1\u001b[39m]], i]\n\u001b[1;32m    <a href='file:///Users/parsa/Daneshgah/Arshad/2/NLP/Homeworks/HW2/code/hmm.py?line=240'>241</a>\u001b[0m beta[t, j] \u001b[39m=\u001b[39m beta_j_t\n\u001b[1;32m    <a href='file:///Users/parsa/Daneshgah/Arshad/2/NLP/Homeworks/HW2/code/hmm.py?line=241'>242</a>\u001b[0m \u001b[39mreturn\u001b[39;00m beta[t, j]\n",
      "    \u001b[0;31m[... skipping similar frames: compute_beta at line 239 (29 times)]\u001b[0m\n",
      "File \u001b[0;32m~/Daneshgah/Arshad/2/NLP/Homeworks/HW2/code/hmm.py:239\u001b[0m, in \u001b[0;36mcompute_beta\u001b[0;34m(j, t, iS, A, B, Pi, O, beta, v_to_k)\u001b[0m\n\u001b[1;32m    <a href='file:///Users/parsa/Daneshgah/Arshad/2/NLP/Homeworks/HW2/code/hmm.py?line=236'>237</a>\u001b[0m beta_j_t \u001b[39m=\u001b[39m \u001b[39m0\u001b[39m\n\u001b[1;32m    <a href='file:///Users/parsa/Daneshgah/Arshad/2/NLP/Homeworks/HW2/code/hmm.py?line=237'>238</a>\u001b[0m \u001b[39mfor\u001b[39;00m i \u001b[39min\u001b[39;00m iS:\n\u001b[0;32m--> <a href='file:///Users/parsa/Daneshgah/Arshad/2/NLP/Homeworks/HW2/code/hmm.py?line=238'>239</a>\u001b[0m     beta_j_t \u001b[39m+\u001b[39m\u001b[39m=\u001b[39m compute_beta(i, t\u001b[39m+\u001b[39m\u001b[39m1\u001b[39m, iS, A, B, Pi, O, beta, v_to_k) \u001b[39m*\u001b[39m A[j, i] \u001b[39m*\u001b[39m B[v_to_k[O[t\u001b[39m+\u001b[39;49m\u001b[39m1\u001b[39;49m]], i]\n\u001b[1;32m    <a href='file:///Users/parsa/Daneshgah/Arshad/2/NLP/Homeworks/HW2/code/hmm.py?line=240'>241</a>\u001b[0m beta[t, j] \u001b[39m=\u001b[39m beta_j_t\n\u001b[1;32m    <a href='file:///Users/parsa/Daneshgah/Arshad/2/NLP/Homeworks/HW2/code/hmm.py?line=241'>242</a>\u001b[0m \u001b[39mreturn\u001b[39;00m beta[t, j]\n",
      "\u001b[0;31mKeyboardInterrupt\u001b[0m: "
     ]
    }
   ],
   "source": [
    "\n",
    "\n",
    "modellist_path, test_data_path = '/Users/parsa/Daneshgah/Arshad/2/NLP/Homeworks/HW2/hmm_data/modellist.txt', '/Users/parsa/Daneshgah/Arshad/2/NLP/Homeworks/HW2/hmm_data/testing_data1.txt', \n",
    "\n",
    "modellist = read_modellist(modellist_path)\n",
    "\n",
    "test_data_file = open(test_data_path, 'r')\n",
    "\n",
    "counter = 0\n",
    "n_lines = get_num_lines(test_data_path)\n",
    "\n",
    "while True:\n",
    "    test_line = test_data_file.readline()[:-1]\n",
    "    \n",
    "    if counter % 100 == 0:\n",
    "        print(str(counter) + ' / ' + str(n_lines), end='\\r')\n",
    "    \n",
    "    counter += 1\n",
    "    \n",
    "    if not test_line:\n",
    "        break\n",
    "    P, model_name = hmm.get_best_model(test_line, modellist, output_path='/Users/parsa/Daneshgah/Arshad/2/NLP/Homeworks/HW2/output')\n",
    "    append_to_results(P, model_name, '/Users/parsa/Daneshgah/Arshad/2/NLP/Homeworks/HW2/output/result_init.txt')"
   ]
  },
  {
   "cell_type": "code",
   "execution_count": 10,
   "metadata": {},
   "outputs": [],
   "source": [
    "result_file = open('/Users/parsa/Daneshgah/Arshad/2/NLP/Homeworks/HW2/output/result_init.txt', 'r')\n",
    "truth_file = open(truth_path, 'r')\n",
    "confusion_matrix_init = np.zeros((len(modellist), len(modellist)))\n",
    "counter = 0\n",
    "true_count_init = 0\n",
    "for i in range(n_lines):\n",
    "    result = result_file.readline()[:-1].split()[0]\n",
    "    truth = truth_file.readline()[:-1]\n",
    "    \n",
    "    if truth == result:\n",
    "        true_count_init += 1\n",
    "        \n",
    "    confusion_matrix_init[model_to_index[result], model_to_index[truth]] += 1\n",
    "    \n",
    "    counter += 1\n",
    "    \n",
    "result_file.close()\n",
    "truth_file.close()\n",
    "    "
   ]
  },
  {
   "cell_type": "code",
   "execution_count": 11,
   "metadata": {},
   "outputs": [
    {
     "name": "stdout",
     "output_type": "stream",
     "text": [
      "0.7772\n"
     ]
    }
   ],
   "source": [
    "accuracy_init = true_count_init / n_lines\n",
    "print(accuracy_init)\n"
   ]
  },
  {
   "cell_type": "code",
   "execution_count": 12,
   "metadata": {},
   "outputs": [
    {
     "data": {
      "text/plain": [
       "array([[497.,   1.,  16.,   1.,   1.],\n",
       "       [  1., 488.,   1.,   8.,  19.],\n",
       "       [  0.,   2., 452.,  20.,  27.],\n",
       "       [  0.,  15.,   0., 295., 220.],\n",
       "       [  0.,  25.,  17., 183., 211.]])"
      ]
     },
     "execution_count": 12,
     "metadata": {},
     "output_type": "execute_result"
    }
   ],
   "source": [
    "confusion_matrix_init"
   ]
  },
  {
   "cell_type": "code",
   "execution_count": null,
   "metadata": {},
   "outputs": [],
   "source": []
  }
 ],
 "metadata": {
  "interpreter": {
   "hash": "31f2aee4e71d21fbe5cf8b01ff0e069b9275f58929596ceb00d14d90e3e16cd6"
  },
  "kernelspec": {
   "display_name": "Python 3.8.9 64-bit",
   "language": "python",
   "name": "python3"
  },
  "language_info": {
   "codemirror_mode": {
    "name": "ipython",
    "version": 3
   },
   "file_extension": ".py",
   "mimetype": "text/x-python",
   "name": "python",
   "nbconvert_exporter": "python",
   "pygments_lexer": "ipython3",
   "version": "3.8.9"
  },
  "orig_nbformat": 4
 },
 "nbformat": 4,
 "nbformat_minor": 2
}
